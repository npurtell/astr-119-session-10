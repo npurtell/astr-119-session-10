{
 "cells": [
  {
   "cell_type": "markdown",
   "metadata": {},
   "source": [
    "## Use the trapeziod method, simpson's rule, and romberg integration"
   ]
  },
  {
   "cell_type": "code",
   "execution_count": null,
   "metadata": {},
   "outputs": [],
   "source": [
    "%matplotlib inline\n",
    "import numpy as np\n",
    "import matplotlib.pyplot as plt"
   ]
  },
  {
   "cell_type": "markdown",
   "metadata": {},
   "source": [
    "Define a fxn for integration "
   ]
  },
  {
   "cell_type": "code",
   "execution_count": null,
   "metadata": {},
   "outputs": [],
   "source": [
    "def func(x):\n",
    "    a = 1.01\n",
    "    b = -3.04\n",
    "    c = 2.07\n",
    "    return a*x**2 + b*x + c"
   ]
  },
  {
   "cell_type": "markdown",
   "metadata": {},
   "source": [
    "Define its integral so we know the right answer"
   ]
  },
  {
   "cell_type": "code",
   "execution_count": null,
   "metadata": {},
   "outputs": [],
   "source": [
    "def func_integral(x):\n",
    "    a = 1.01\n",
    "    b = -3.04\n",
    "    c = 2.07\n",
    "    return (a*x**3)/3. + (b*x**2)/2. + c*x\n",
    "#dviding by 3. means im dividing by a float 3"
   ]
  },
  {
   "cell_type": "markdown",
   "metadata": {},
   "source": [
    "Define core of trapeziod method"
   ]
  },
  {
   "cell_type": "code",
   "execution_count": null,
   "metadata": {},
   "outputs": [],
   "source": [
    "def trapezoid_core(f,x,h):\n",
    "    return 0.5*h*(f(x+h) + f(x))\n",
    "#f is fxn we want to integrate, x is the right side of interval\n",
    "#h is width of interval"
   ]
  },
  {
   "cell_type": "markdown",
   "metadata": {},
   "source": [
    "Define a wrapper(or driving) function to perform trapezoid method"
   ]
  },
  {
   "cell_type": "code",
   "execution_count": null,
   "metadata": {},
   "outputs": [],
   "source": [
    "def trapezoid_method(f,a,b,N):\n",
    "    #f==fxn to integrate\n",
    "    #a==lower limit of integration\n",
    "    #b==upper limit of integration\n",
    "    #N== # of fxn evaluations to use\n",
    "    #note # of chunks will be N-1\n",
    "    #so if N is odd, then we dont need to adjust the last segment\n",
    "    \n",
    "    #define x values to perform trapeziod method\n",
    "    x = np.linspace(a,b,N)\n",
    "    h = x[1]-x[0]\n",
    "    \n",
    "    #define value of integral\n",
    "    Fint = 0.0\n",
    "    \n",
    "    #perform integral using the trapeziod method, dont want to integrate past limits\n",
    "    for i in range(0,len(x)-1,1):\n",
    "        Fint += trapezoid_core(f,x[i],h)\n",
    "    #f is fxn, x[i] is left hand side, h is width of interval\n",
    "    #range starts from 0, len(x)-1 is the limit exclusive of iteration so its n-1\n",
    "    #max value of 1 is n-2, need to stop at n-2\n",
    "    \n",
    "    #reutrn answer\n",
    "    return Fint"
   ]
  },
  {
   "cell_type": "markdown",
   "metadata": {},
   "source": [
    "Define core of simpson's method"
   ]
  },
  {
   "cell_type": "code",
   "execution_count": null,
   "metadata": {},
   "outputs": [],
   "source": [
    "def simpson_core(f,x,h):\n",
    "    return h*( f(x) + 4*f(x+h) + f(x+2*h))/3."
   ]
  },
  {
   "cell_type": "markdown",
   "metadata": {},
   "source": [
    "Define wrapper fxn to perform simpsons method"
   ]
  },
  {
   "cell_type": "code",
   "execution_count": null,
   "metadata": {},
   "outputs": [],
   "source": [
    "def simpsons_method(f,a,b,N):\n",
    "    #f==fxn to integrate\n",
    "    #a==lower limit of integration\n",
    "    #b==upper limit of integration\n",
    "    #N== # of fxn evaluations to use\n",
    "    #note # of chunks will be N-1\n",
    "    #so if N is odd, then we dont need to adjust the last segment\n",
    "    \n",
    "    #define x values to perform simpsons rule\n",
    "    x = np.linspace(a,b,N)\n",
    "    h = x[1]-x[0]\n",
    "    \n",
    "    #define value of integral\n",
    "    Fint = 0.0\n",
    "    \n",
    "    #if N is odd or even, we have different numbers of chunks to add\n",
    "    if((N%2)==0):\n",
    "        lim = 3\n",
    "    else:\n",
    "        lim = 2\n",
    "    #the if statement= if N % 2 is even set it =3, if its odd=2\n",
    "    #%=the remainder, if there isnt a remainder, then the fnx is even\n",
    "    \n",
    "    #perform integral using the simpsons method, dont want to integrate past limits\n",
    "    for i in range(0,len(x)-2,2):\n",
    "        Fint += simpson_core(f,x[i],h)\n",
    "        print(i,i+2,x[i],x[i]+h,x[i]+2*h,x[-2],x[-1])\n",
    "    #going from 0 to n-2 (n-3 inclusive) in steps of 2\n",
    "    #2 is stride of interation\n",
    "    #stopping at n-3, becasue were taking chunks 2 steps at a time\n",
    "    #going to go up against n-1 depending on odd or even\n",
    "    \n",
    "    #in even case....\n",
    "    #apply simpsons rule over the last interval if N is even\n",
    "    if((N%2)==0):\n",
    "        Fint += simpson_core(f,x[-2],0.5*h)\n",
    "    #split the last interval in half to get 2 chunks\n",
    "    \n",
    "    #reutrn answer\n",
    "    return Fint"
   ]
  },
  {
   "cell_type": "markdown",
   "metadata": {},
   "source": [
    "Define the romberg integration core"
   ]
  },
  {
   "cell_type": "code",
   "execution_count": null,
   "metadata": {},
   "outputs": [],
   "source": [
    "def romberg_core(f,a,b,I,i):\n",
    "  # I is array of iterations getting successively better\n",
    "    # i = current iteration factor, number of iterations\n",
    "    \n",
    "    #we need difference b-a, 1st width of 1st trapeziod\n",
    "    h = b-a\n",
    "    \n",
    "    #and increment btwn new fxn evals, 2nd trapeziod\n",
    "    dh = h/2.**(i)\n",
    "    #every time we do a successively better integral, we cut our integral by factor of 2\n",
    "    \n",
    "    #we need the cofactor\n",
    "    K = h/2.**(i+1)\n",
    "    \n",
    "    #and fxn evals, additional terms we need to evaluate in addition to \n",
    "    #integral evaluations i did in the previous step\n",
    "    M = 0.0\n",
    "    for j in range(2**i):\n",
    "        M += f(a + 0.5*dh + j*dh)\n",
    "    # far left side, plus half current width, adding succesivly terms of h\n",
    "    #fxn evaluations, and adding by dh each time to the succesvie chunks\n",
    "    \n",
    "    #return the answer\n",
    "    return K*M"
   ]
  },
  {
   "cell_type": "markdown",
   "metadata": {},
   "source": [
    "Define wrapper fxn to perform romberg integration"
   ]
  },
  {
   "cell_type": "code",
   "execution_count": null,
   "metadata": {},
   "outputs": [],
   "source": [
    "def romberg_integration(f,a,b,tol):\n",
    "    \n",
    "    #define integration variable\n",
    "    i = 0\n",
    "    \n",
    "    #define max # of iterations\n",
    "    imax = 1000\n",
    "    \n",
    "    #define error estimate, set to a large value, 1st error estimate\n",
    "    delta = 100.0*np.fabs(tol)\n",
    "    #we want answer within tolerance, we will iterate until we get our error\n",
    "    #within the tolerance towards the end of the iteration\n",
    "    \n",
    "    #set array of integral answers\n",
    "    I = np.zeros(imax,dtype=float)\n",
    "    #array with imax # elements, store successively better answers\n",
    "    \n",
    "    #get the zeroth romberg iteration\n",
    "    I[0] = 0.5*(b-a)*(f(a) + f(b))\n",
    "    \n",
    "    #iterate by 1\n",
    "    i += 1\n",
    "    \n",
    "    while(delta>tol):\n",
    "        #while loop\n",
    "        \n",
    "        #find this romberg iteration for when the error estimate is larger than allowed tol\n",
    "        I[i] = 0.5*I[i-1] + romberg_core(f,a,b,I,i)\n",
    "        \n",
    "        #compute new fractional error estimate\n",
    "        delta = np.fabs( (I[i]-I[i-1])/I[i] )\n",
    "        #fabs=absolute value\n",
    "        \n",
    "        print(i,I[i],I[i-1],delta)\n",
    "        \n",
    "        if (delta>tol):\n",
    "            \n",
    "            #iterate\n",
    "            i+=1\n",
    "            \n",
    "            #if weve reached the max iterations\n",
    "            if(i>imax):\n",
    "                print(\"max iterations reached.\")\n",
    "                raise StopIteration('Stopping iterations after ',i)\n",
    "        \n",
    "    #return the answer, if weve made it outside while loop\n",
    "    return I[i]"
   ]
  },
  {
   "cell_type": "code",
   "execution_count": null,
   "metadata": {},
   "outputs": [],
   "source": [
    "Answer = func_integral(1)-func_integral(0)\n",
    "#integrating parabola between 0 and 1\n",
    "print(Answer)\n",
    "print(\"Trapezoid\")\n",
    "print(trapezoid_method(func,0,1,10))\n",
    "print(\"Simpson Method\")\n",
    "print(simpsons_method(func,0,1,10))\n",
    "print(\"Romberg\")\n",
    "tolerance = 1.0e-6\n",
    "RI = romberg_integration(func,0,1,tolerance)\n",
    "print(RI, (RI-Answer)/Answer, tolerance)"
   ]
  },
  {
   "cell_type": "code",
   "execution_count": null,
   "metadata": {},
   "outputs": [],
   "source": []
  }
 ],
 "metadata": {
  "kernelspec": {
   "display_name": "Python 3",
   "language": "python",
   "name": "python3"
  },
  "language_info": {
   "codemirror_mode": {
    "name": "ipython",
    "version": 3
   },
   "file_extension": ".py",
   "mimetype": "text/x-python",
   "name": "python",
   "nbconvert_exporter": "python",
   "pygments_lexer": "ipython3",
   "version": "3.6.5"
  }
 },
 "nbformat": 4,
 "nbformat_minor": 2
}
